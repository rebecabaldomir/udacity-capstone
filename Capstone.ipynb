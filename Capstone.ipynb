{
 "cells": [
  {
   "cell_type": "markdown",
   "metadata": {},
   "source": [
    "Capstone Project\n",
    "========="
   ]
  },
  {
   "cell_type": "markdown",
   "metadata": {},
   "source": [
    "Airbnb New User Bookings\n",
    "---------------------------"
   ]
  },
  {
   "cell_type": "markdown",
   "metadata": {},
   "source": [
    "O objetivo desse notebook é prever qual o país de destino de um usuário baseado seus dados demográficos, registros de sessão da Web e algumas estatísticas de resumo. Todos os usuários desse conjunto de dados são dos EUA e podem ter 12 possíveis destinos 'EUA', 'FR', 'CA', 'GB', 'ES', 'IT', 'PT', 'NL', 'DE', 'AU', 'NDF' e 'outro', sendo 'NDF' nenhum destino encontrado."
   ]
  },
  {
   "cell_type": "code",
   "execution_count": 31,
   "metadata": {
    "collapsed": true
   },
   "outputs": [],
   "source": [
    "#Importando bibliotecas necessárias\n",
    "\n",
    "import sklearn\n",
    "import numpy as np\n",
    "import pandas as pd\n",
    "import visuals as vs\n",
    "\n",
    "import matplotlib.pyplot as plt\n",
    "\n"
   ]
  },
  {
   "cell_type": "code",
   "execution_count": 2,
   "metadata": {
    "collapsed": true
   },
   "outputs": [],
   "source": [
    "#Leitura dos arquivos \n",
    "\n",
    "data = pd.read_csv('train_users_2.csv')\n",
    "\n",
    "age_gender_bkts = pd.read_csv('age_gender_bkts.csv')\n",
    "\n",
    "sessions = pd.read_csv('sessions.csv')"
   ]
  },
  {
   "cell_type": "code",
   "execution_count": 19,
   "metadata": {
    "collapsed": true
   },
   "outputs": [],
   "source": [
    "#Limpeza e formatação dos dados\n",
    "\n",
    "data['date_account_created'] = pd.to_datetime(data.date_account_created)\n",
    "data['date_first_booking'] = pd.to_datetime(data.date_first_booking)\n",
    "data.replace(\"-unknown-\", np.nan, inplace=True)\n",
    "\n",
    "#Retirando pessoas com idades que provavelmente foram erros\n",
    "data.loc[data.age > 95, 'age'] = np.nan\n",
    "data.loc[data.age < 13, 'age'] = np.nan\n",
    "\n",
    "#Transformação do tipo para data\n",
    "data['date_account_created'] = pd.to_datetime(data['date_account_created'])\n",
    "data['date_first_booking'] = pd.to_datetime(data['date_first_booking'])\n",
    "data['date_first_active'] = pd.to_datetime((data.timestamp_first_active // 1000000), format='%Y%m%d')\n",
    "\n"
   ]
  },
  {
   "cell_type": "markdown",
   "metadata": {},
   "source": [
    "### Visualização dos dados"
   ]
  },
  {
   "cell_type": "code",
   "execution_count": 35,
   "metadata": {},
   "outputs": [
    {
     "data": {
      "text/plain": [
       "<matplotlib.axes._subplots.AxesSubplot at 0x7f7959bbdc90>"
      ]
     },
     "execution_count": 35,
     "metadata": {},
     "output_type": "execute_result"
    },
    {
     "data": {
      "image/png": "[encoded data removed]",
      "text/plain": [
       "<matplotlib.figure.Figure at 0x7f7958a66250>"
      ]
     },
     "metadata": {},
     "output_type": "display_data"
    }
   ],
   "source": [
    "data.gender.value_counts(dropna=False).plot(kind='bar')"
   ]
  },
  {
   "cell_type": "code",
   "execution_count": 36,
   "metadata": {},
   "outputs": [
    {
     "data": {
      "text/plain": [
       "<matplotlib.axes._subplots.AxesSubplot at 0x7f7959be0110>"
      ]
     },
     "execution_count": 36,
     "metadata": {},
     "output_type": "execute_result"
    },
    {
     "data": {
      "image/png": "[encoded data removed]",
      "text/plain": [
       "<matplotlib.figure.Figure at 0x7f7958a7bb90>"
      ]
     },
     "metadata": {},
     "output_type": "display_data"
    }
   ],
   "source": [
    "destination = data.country_destination.value_counts()\n",
    "destination.plot(kind='bar')"
   ]
  },
  {
   "cell_type": "code",
   "execution_count": null,
   "metadata": {
    "collapsed": true
   },
   "outputs": [],
   "source": [
    "data.age.plot(kind='bar')"
   ]
  },
  {
   "cell_type": "code",
   "execution_count": null,
   "metadata": {
    "collapsed": true
   },
   "outputs": [],
   "source": [
    "data.date_account_created.value_counts().plot(kind='line')"
   ]
  },
  {
   "cell_type": "code",
   "execution_count": null,
   "metadata": {
    "collapsed": true
   },
   "outputs": [],
   "source": [
    "sessions.fillna(0, inplace=True)"
   ]
  },
  {
   "cell_type": "markdown",
   "metadata": {},
   "source": [
    "### Análise Exploratória"
   ]
  },
  {
   "cell_type": "code",
   "execution_count": 4,
   "metadata": {},
   "outputs": [
    {
     "name": "stdout",
     "output_type": "stream",
     "text": [
      "            id date_account_created  timestamp_first_active  \\\n",
      "0   gxn3p5htnn           2010-06-28          20090319043255   \n",
      "1   820tgsjxq7           2011-05-25          20090523174809   \n",
      "2   4ft3gnwmtx           2010-09-28          20090609231247   \n",
      "3   bjjt8pjhuk           2011-12-05          20091031060129   \n",
      "4   87mebub9p4           2010-09-14          20091208061105   \n",
      "5   osr2jwljor           2010-01-01          20100101215619   \n",
      "6   lsw9q7uk0j           2010-01-02          20100102012558   \n",
      "7   0d01nltbrs           2010-01-03          20100103191905   \n",
      "8   a1vcnhxeij           2010-01-04          20100104004211   \n",
      "9   6uh8zyj2gn           2010-01-04          20100104023758   \n",
      "10  yuuqmid2rp           2010-01-04          20100104194251   \n",
      "11  om1ss59ys8           2010-01-05          20100105051812   \n",
      "12  k6np330cm1           2010-01-05          20100105060859   \n",
      "13  dy3rgx56cu           2010-01-05          20100105083259   \n",
      "14  ju3h98ch3w           2010-01-07          20100107055820   \n",
      "15  v4d5rl22px           2010-01-07          20100107204555   \n",
      "16  2dwbwkx056           2010-01-07          20100107215125   \n",
      "17  frhre329au           2010-01-07          20100107224625   \n",
      "18  cxlg85pg1r           2010-01-08          20100108015641   \n",
      "19  gdka1q5ktd           2010-01-10          20100110010817   \n",
      "\n",
      "   date_first_booking  gender   age signup_method  signup_flow language  \\\n",
      "0          1970-01-01       0   0.0      facebook            0       en   \n",
      "1          1970-01-01    MALE  38.0      facebook            0       en   \n",
      "2          2010-08-02  FEMALE  56.0         basic            3       en   \n",
      "3          2012-09-08  FEMALE  42.0      facebook            0       en   \n",
      "4          2010-02-18       0  41.0         basic            0       en   \n",
      "5          2010-01-02       0   0.0         basic            0       en   \n",
      "6          2010-01-05  FEMALE  46.0         basic            0       en   \n",
      "7          2010-01-13  FEMALE  47.0         basic            0       en   \n",
      "8          2010-07-29  FEMALE  50.0         basic            0       en   \n",
      "9          2010-01-04       0  46.0         basic            0       en   \n",
      "10         2010-01-06  FEMALE  36.0         basic            0       en   \n",
      "11         1970-01-01  FEMALE  47.0         basic            0       en   \n",
      "12         2010-01-18       0   0.0         basic            0       en   \n",
      "13         1970-01-01  FEMALE  37.0         basic            0       en   \n",
      "14         1970-01-01  FEMALE  36.0         basic            0       en   \n",
      "15         2010-01-08  FEMALE  33.0         basic            0       en   \n",
      "16         1970-01-01       0   0.0         basic            0       en   \n",
      "17         2010-01-09       0  31.0         basic            0       en   \n",
      "18         1970-01-01       0   0.0         basic            0       en   \n",
      "19         2010-01-10  FEMALE  29.0         basic            0       en   \n",
      "\n",
      "   affiliate_channel affiliate_provider first_affiliate_tracked signup_app  \\\n",
      "0             direct             direct               untracked        Web   \n",
      "1                seo             google               untracked        Web   \n",
      "2             direct             direct               untracked        Web   \n",
      "3             direct             direct               untracked        Web   \n",
      "4             direct             direct               untracked        Web   \n",
      "5              other              other                     omg        Web   \n",
      "6              other         craigslist               untracked        Web   \n",
      "7             direct             direct                     omg        Web   \n",
      "8              other         craigslist               untracked        Web   \n",
      "9              other         craigslist                     omg        Web   \n",
      "10             other         craigslist               untracked        Web   \n",
      "11             other         craigslist               untracked        Web   \n",
      "12            direct             direct                       0        Web   \n",
      "13             other         craigslist                  linked        Web   \n",
      "14             other         craigslist               untracked        Web   \n",
      "15            direct             direct               untracked        Web   \n",
      "16             other         craigslist                       0        Web   \n",
      "17             other         craigslist                       0        Web   \n",
      "18               seo           facebook                       0        Web   \n",
      "19            direct             direct               untracked        Web   \n",
      "\n",
      "   first_device_type  first_browser country_destination  \n",
      "0        Mac Desktop         Chrome                 NDF  \n",
      "1        Mac Desktop         Chrome                 NDF  \n",
      "2    Windows Desktop             IE                  US  \n",
      "3        Mac Desktop        Firefox               other  \n",
      "4        Mac Desktop         Chrome                  US  \n",
      "5        Mac Desktop         Chrome                  US  \n",
      "6        Mac Desktop         Safari                  US  \n",
      "7        Mac Desktop         Safari                  US  \n",
      "8        Mac Desktop         Safari                  US  \n",
      "9        Mac Desktop        Firefox                  US  \n",
      "10       Mac Desktop        Firefox                  US  \n",
      "11            iPhone              0                 NDF  \n",
      "12     Other/Unknown              0                  FR  \n",
      "13       Mac Desktop        Firefox                 NDF  \n",
      "14            iPhone  Mobile Safari                 NDF  \n",
      "15   Windows Desktop         Chrome                  CA  \n",
      "16     Other/Unknown              0                 NDF  \n",
      "17     Other/Unknown              0                  US  \n",
      "18     Other/Unknown              0                 NDF  \n",
      "19       Mac Desktop         Chrome                  FR  \n"
     ]
    },
    {
     "data": {
      "text/html": [
       "<div>\n",
       "<style>\n",
       "    .dataframe thead tr:only-child th {\n",
       "        text-align: right;\n",
       "    }\n",
       "\n",
       "    .dataframe thead th {\n",
       "        text-align: left;\n",
       "    }\n",
       "\n",
       "    .dataframe tbody tr th {\n",
       "        vertical-align: top;\n",
       "    }\n",
       "</style>\n",
       "<table border=\"1\" class=\"dataframe\">\n",
       "  <thead>\n",
       "    <tr style=\"text-align: right;\">\n",
       "      <th></th>\n",
       "      <th>timestamp_first_active</th>\n",
       "      <th>age</th>\n",
       "      <th>signup_flow</th>\n",
       "    </tr>\n",
       "  </thead>\n",
       "  <tbody>\n",
       "    <tr>\n",
       "      <th>count</th>\n",
       "      <td>2.134510e+05</td>\n",
       "      <td>213451.000000</td>\n",
       "      <td>213451.000000</td>\n",
       "    </tr>\n",
       "    <tr>\n",
       "      <th>mean</th>\n",
       "      <td>2.013085e+13</td>\n",
       "      <td>29.193768</td>\n",
       "      <td>3.267387</td>\n",
       "    </tr>\n",
       "    <tr>\n",
       "      <th>std</th>\n",
       "      <td>9.253717e+09</td>\n",
       "      <td>121.822356</td>\n",
       "      <td>7.637707</td>\n",
       "    </tr>\n",
       "    <tr>\n",
       "      <th>min</th>\n",
       "      <td>2.009032e+13</td>\n",
       "      <td>0.000000</td>\n",
       "      <td>0.000000</td>\n",
       "    </tr>\n",
       "    <tr>\n",
       "      <th>25%</th>\n",
       "      <td>2.012123e+13</td>\n",
       "      <td>0.000000</td>\n",
       "      <td>0.000000</td>\n",
       "    </tr>\n",
       "    <tr>\n",
       "      <th>50%</th>\n",
       "      <td>2.013091e+13</td>\n",
       "      <td>26.000000</td>\n",
       "      <td>0.000000</td>\n",
       "    </tr>\n",
       "    <tr>\n",
       "      <th>75%</th>\n",
       "      <td>2.014031e+13</td>\n",
       "      <td>36.000000</td>\n",
       "      <td>0.000000</td>\n",
       "    </tr>\n",
       "    <tr>\n",
       "      <th>max</th>\n",
       "      <td>2.014063e+13</td>\n",
       "      <td>2014.000000</td>\n",
       "      <td>25.000000</td>\n",
       "    </tr>\n",
       "  </tbody>\n",
       "</table>\n",
       "</div>"
      ],
      "text/plain": [
       "       timestamp_first_active            age    signup_flow\n",
       "count            2.134510e+05  213451.000000  213451.000000\n",
       "mean             2.013085e+13      29.193768       3.267387\n",
       "std              9.253717e+09     121.822356       7.637707\n",
       "min              2.009032e+13       0.000000       0.000000\n",
       "25%              2.012123e+13       0.000000       0.000000\n",
       "50%              2.013091e+13      26.000000       0.000000\n",
       "75%              2.014031e+13      36.000000       0.000000\n",
       "max              2.014063e+13    2014.000000      25.000000"
      ]
     },
     "execution_count": 4,
     "metadata": {},
     "output_type": "execute_result"
    }
   ],
   "source": [
    "print data.head(20)\n",
    "data.describe()"
   ]
  },
  {
   "cell_type": "code",
   "execution_count": 5,
   "metadata": {},
   "outputs": [
    {
     "name": "stdout",
     "output_type": "stream",
     "text": [
      "      user_id          action action_type        action_detail  \\\n",
      "0  d1mm9tcy42          lookup           0                    0   \n",
      "1  d1mm9tcy42  search_results       click  view_search_results   \n",
      "2  d1mm9tcy42          lookup           0                    0   \n",
      "3  d1mm9tcy42  search_results       click  view_search_results   \n",
      "4  d1mm9tcy42          lookup           0                    0   \n",
      "\n",
      "       device_type  secs_elapsed  \n",
      "0  Windows Desktop         319.0  \n",
      "1  Windows Desktop       67753.0  \n",
      "2  Windows Desktop         301.0  \n",
      "3  Windows Desktop       22141.0  \n",
      "4  Windows Desktop         435.0  \n"
     ]
    },
    {
     "data": {
      "text/html": [
       "<div>\n",
       "<style>\n",
       "    .dataframe thead tr:only-child th {\n",
       "        text-align: right;\n",
       "    }\n",
       "\n",
       "    .dataframe thead th {\n",
       "        text-align: left;\n",
       "    }\n",
       "\n",
       "    .dataframe tbody tr th {\n",
       "        vertical-align: top;\n",
       "    }\n",
       "</style>\n",
       "<table border=\"1\" class=\"dataframe\">\n",
       "  <thead>\n",
       "    <tr style=\"text-align: right;\">\n",
       "      <th></th>\n",
       "      <th>secs_elapsed</th>\n",
       "    </tr>\n",
       "  </thead>\n",
       "  <tbody>\n",
       "    <tr>\n",
       "      <th>count</th>\n",
       "      <td>1.056774e+07</td>\n",
       "    </tr>\n",
       "    <tr>\n",
       "      <th>mean</th>\n",
       "      <td>1.915601e+04</td>\n",
       "    </tr>\n",
       "    <tr>\n",
       "      <th>std</th>\n",
       "      <td>8.833741e+04</td>\n",
       "    </tr>\n",
       "    <tr>\n",
       "      <th>min</th>\n",
       "      <td>0.000000e+00</td>\n",
       "    </tr>\n",
       "    <tr>\n",
       "      <th>25%</th>\n",
       "      <td>2.080000e+02</td>\n",
       "    </tr>\n",
       "    <tr>\n",
       "      <th>50%</th>\n",
       "      <td>1.108000e+03</td>\n",
       "    </tr>\n",
       "    <tr>\n",
       "      <th>75%</th>\n",
       "      <td>8.193000e+03</td>\n",
       "    </tr>\n",
       "    <tr>\n",
       "      <th>max</th>\n",
       "      <td>1.799977e+06</td>\n",
       "    </tr>\n",
       "  </tbody>\n",
       "</table>\n",
       "</div>"
      ],
      "text/plain": [
       "       secs_elapsed\n",
       "count  1.056774e+07\n",
       "mean   1.915601e+04\n",
       "std    8.833741e+04\n",
       "min    0.000000e+00\n",
       "25%    2.080000e+02\n",
       "50%    1.108000e+03\n",
       "75%    8.193000e+03\n",
       "max    1.799977e+06"
      ]
     },
     "execution_count": 5,
     "metadata": {},
     "output_type": "execute_result"
    }
   ],
   "source": [
    "print sessions.head()\n",
    "sessions.describe()"
   ]
  },
  {
   "cell_type": "code",
   "execution_count": 6,
   "metadata": {},
   "outputs": [
    {
     "name": "stdout",
     "output_type": "stream",
     "text": [
      "  age_bucket country_destination gender  population_in_thousands    year\n",
      "0       100+                  AU   male                      1.0  2015.0\n",
      "1      95-99                  AU   male                      9.0  2015.0\n",
      "2      90-94                  AU   male                     47.0  2015.0\n",
      "3      85-89                  AU   male                    118.0  2015.0\n",
      "4      80-84                  AU   male                    199.0  2015.0\n"
     ]
    },
    {
     "data": {
      "text/html": [
       "<div>\n",
       "<style>\n",
       "    .dataframe thead tr:only-child th {\n",
       "        text-align: right;\n",
       "    }\n",
       "\n",
       "    .dataframe thead th {\n",
       "        text-align: left;\n",
       "    }\n",
       "\n",
       "    .dataframe tbody tr th {\n",
       "        vertical-align: top;\n",
       "    }\n",
       "</style>\n",
       "<table border=\"1\" class=\"dataframe\">\n",
       "  <thead>\n",
       "    <tr style=\"text-align: right;\">\n",
       "      <th></th>\n",
       "      <th>population_in_thousands</th>\n",
       "      <th>year</th>\n",
       "    </tr>\n",
       "  </thead>\n",
       "  <tbody>\n",
       "    <tr>\n",
       "      <th>count</th>\n",
       "      <td>420.000000</td>\n",
       "      <td>420.0</td>\n",
       "    </tr>\n",
       "    <tr>\n",
       "      <th>mean</th>\n",
       "      <td>1743.133333</td>\n",
       "      <td>2015.0</td>\n",
       "    </tr>\n",
       "    <tr>\n",
       "      <th>std</th>\n",
       "      <td>2509.843202</td>\n",
       "      <td>0.0</td>\n",
       "    </tr>\n",
       "    <tr>\n",
       "      <th>min</th>\n",
       "      <td>0.000000</td>\n",
       "      <td>2015.0</td>\n",
       "    </tr>\n",
       "    <tr>\n",
       "      <th>25%</th>\n",
       "      <td>396.500000</td>\n",
       "      <td>2015.0</td>\n",
       "    </tr>\n",
       "    <tr>\n",
       "      <th>50%</th>\n",
       "      <td>1090.500000</td>\n",
       "      <td>2015.0</td>\n",
       "    </tr>\n",
       "    <tr>\n",
       "      <th>75%</th>\n",
       "      <td>1968.000000</td>\n",
       "      <td>2015.0</td>\n",
       "    </tr>\n",
       "    <tr>\n",
       "      <th>max</th>\n",
       "      <td>11601.000000</td>\n",
       "      <td>2015.0</td>\n",
       "    </tr>\n",
       "  </tbody>\n",
       "</table>\n",
       "</div>"
      ],
      "text/plain": [
       "       population_in_thousands    year\n",
       "count               420.000000   420.0\n",
       "mean               1743.133333  2015.0\n",
       "std                2509.843202     0.0\n",
       "min                   0.000000  2015.0\n",
       "25%                 396.500000  2015.0\n",
       "50%                1090.500000  2015.0\n",
       "75%                1968.000000  2015.0\n",
       "max               11601.000000  2015.0"
      ]
     },
     "execution_count": 6,
     "metadata": {},
     "output_type": "execute_result"
    }
   ],
   "source": [
    "print age_gender_bkts.head()\n",
    "age_gender_bkts.describe()"
   ]
  },
  {
   "cell_type": "markdown",
   "metadata": {},
   "source": [
    "### Modelo"
   ]
  },
  {
   "cell_type": "code",
   "execution_count": 7,
   "metadata": {
    "collapsed": true
   },
   "outputs": [],
   "source": [
    "#Importando modelos multiclasses\n",
    "\n",
    "from sklearn.naive_bayes import BernoulliNB\n",
    "from sklearn.tree import DecisionTreeClassifier\n",
    "from sklearn.naive_bayes import GaussianNB\n",
    "from sklearn.neighbors import KNeighborsClassifier\n",
    "from sklearn.linear_model import LogisticRegression "
   ]
  },
  {
   "cell_type": "code",
   "execution_count": 12,
   "metadata": {
    "collapsed": true
   },
   "outputs": [],
   "source": [
    "y = data[['id', 'country_destination']]\n",
    "X = data.drop(['country_destination', 'first_browser', 'first_device_type'], axis=1) "
   ]
  },
  {
   "cell_type": "code",
   "execution_count": 16,
   "metadata": {},
   "outputs": [
    {
     "name": "stdout",
     "output_type": "stream",
     "text": [
      "           id date_account_created  timestamp_first_active date_first_booking  \\\n",
      "0  gxn3p5htnn           2010-06-28          20090319043255         1970-01-01   \n",
      "1  820tgsjxq7           2011-05-25          20090523174809         1970-01-01   \n",
      "2  4ft3gnwmtx           2010-09-28          20090609231247         2010-08-02   \n",
      "3  bjjt8pjhuk           2011-12-05          20091031060129         2012-09-08   \n",
      "4  87mebub9p4           2010-09-14          20091208061105         2010-02-18   \n",
      "5  osr2jwljor           2010-01-01          20100101215619         2010-01-02   \n",
      "6  lsw9q7uk0j           2010-01-02          20100102012558         2010-01-05   \n",
      "7  0d01nltbrs           2010-01-03          20100103191905         2010-01-13   \n",
      "8  a1vcnhxeij           2010-01-04          20100104004211         2010-07-29   \n",
      "9  6uh8zyj2gn           2010-01-04          20100104023758         2010-01-04   \n",
      "\n",
      "   gender   age signup_method  signup_flow language affiliate_channel  \\\n",
      "0       0   0.0      facebook            0       en            direct   \n",
      "1    MALE  38.0      facebook            0       en               seo   \n",
      "2  FEMALE  56.0         basic            3       en            direct   \n",
      "3  FEMALE  42.0      facebook            0       en            direct   \n",
      "4       0  41.0         basic            0       en            direct   \n",
      "5       0   0.0         basic            0       en             other   \n",
      "6  FEMALE  46.0         basic            0       en             other   \n",
      "7  FEMALE  47.0         basic            0       en            direct   \n",
      "8  FEMALE  50.0         basic            0       en             other   \n",
      "9       0  46.0         basic            0       en             other   \n",
      "\n",
      "  affiliate_provider first_affiliate_tracked signup_app  \n",
      "0             direct               untracked        Web  \n",
      "1             google               untracked        Web  \n",
      "2             direct               untracked        Web  \n",
      "3             direct               untracked        Web  \n",
      "4             direct               untracked        Web  \n",
      "5              other                     omg        Web  \n",
      "6         craigslist               untracked        Web  \n",
      "7             direct                     omg        Web  \n",
      "8         craigslist               untracked        Web  \n",
      "9         craigslist                     omg        Web  \n"
     ]
    }
   ],
   "source": [
    "print X.head(10)"
   ]
  },
  {
   "cell_type": "code",
   "execution_count": 10,
   "metadata": {},
   "outputs": [
    {
     "name": "stdout",
     "output_type": "stream",
     "text": [
      "           id country_destination\n",
      "0  gxn3p5htnn                 NDF\n",
      "1  820tgsjxq7                 NDF\n",
      "2  4ft3gnwmtx                  US\n",
      "3  bjjt8pjhuk               other\n",
      "4  87mebub9p4                  US\n"
     ]
    }
   ],
   "source": [
    "print y.head()"
   ]
  },
  {
   "cell_type": "code",
   "execution_count": 15,
   "metadata": {},
   "outputs": [
    {
     "ename": "ValueError",
     "evalue": "could not convert string to float: iOS",
     "output_type": "error",
     "traceback": [
      "\u001b[0;31m---------------------------------------------------------------------------\u001b[0m",
      "\u001b[0;31mValueError\u001b[0m                                Traceback (most recent call last)",
      "\u001b[0;32m<ipython-input-15-1084c76322f6>\u001b[0m in \u001b[0;36m<module>\u001b[0;34m()\u001b[0m\n\u001b[1;32m      1\u001b[0m \u001b[0mclf\u001b[0m \u001b[0;34m=\u001b[0m \u001b[0mGaussianNB\u001b[0m\u001b[0;34m(\u001b[0m\u001b[0;34m)\u001b[0m\u001b[0;34m\u001b[0m\u001b[0m\n\u001b[0;32m----> 2\u001b[0;31m \u001b[0mclf\u001b[0m\u001b[0;34m.\u001b[0m\u001b[0mfit\u001b[0m\u001b[0;34m(\u001b[0m\u001b[0mX\u001b[0m\u001b[0;34m,\u001b[0m \u001b[0my\u001b[0m\u001b[0;34m)\u001b[0m\u001b[0;34m\u001b[0m\u001b[0m\n\u001b[0m",
      "\u001b[0;32m/usr/local/lib/python2.7/dist-packages/sklearn/naive_bayes.pyc\u001b[0m in \u001b[0;36mfit\u001b[0;34m(self, X, y, sample_weight)\u001b[0m\n\u001b[1;32m    181\u001b[0m             \u001b[0mReturns\u001b[0m \u001b[0mself\u001b[0m\u001b[0;34m.\u001b[0m\u001b[0;34m\u001b[0m\u001b[0m\n\u001b[1;32m    182\u001b[0m         \"\"\"\n\u001b[0;32m--> 183\u001b[0;31m         \u001b[0mX\u001b[0m\u001b[0;34m,\u001b[0m \u001b[0my\u001b[0m \u001b[0;34m=\u001b[0m \u001b[0mcheck_X_y\u001b[0m\u001b[0;34m(\u001b[0m\u001b[0mX\u001b[0m\u001b[0;34m,\u001b[0m \u001b[0my\u001b[0m\u001b[0;34m)\u001b[0m\u001b[0;34m\u001b[0m\u001b[0m\n\u001b[0m\u001b[1;32m    184\u001b[0m         return self._partial_fit(X, y, np.unique(y), _refit=True,\n\u001b[1;32m    185\u001b[0m                                  sample_weight=sample_weight)\n",
      "\u001b[0;32m/usr/local/lib/python2.7/dist-packages/sklearn/utils/validation.pyc\u001b[0m in \u001b[0;36mcheck_X_y\u001b[0;34m(X, y, accept_sparse, dtype, order, copy, force_all_finite, ensure_2d, allow_nd, multi_output, ensure_min_samples, ensure_min_features, y_numeric, warn_on_dtype, estimator)\u001b[0m\n\u001b[1;32m    571\u001b[0m     X = check_array(X, accept_sparse, dtype, order, copy, force_all_finite,\n\u001b[1;32m    572\u001b[0m                     \u001b[0mensure_2d\u001b[0m\u001b[0;34m,\u001b[0m \u001b[0mallow_nd\u001b[0m\u001b[0;34m,\u001b[0m \u001b[0mensure_min_samples\u001b[0m\u001b[0;34m,\u001b[0m\u001b[0;34m\u001b[0m\u001b[0m\n\u001b[0;32m--> 573\u001b[0;31m                     ensure_min_features, warn_on_dtype, estimator)\n\u001b[0m\u001b[1;32m    574\u001b[0m     \u001b[0;32mif\u001b[0m \u001b[0mmulti_output\u001b[0m\u001b[0;34m:\u001b[0m\u001b[0;34m\u001b[0m\u001b[0m\n\u001b[1;32m    575\u001b[0m         y = check_array(y, 'csr', force_all_finite=True, ensure_2d=False,\n",
      "\u001b[0;32m/usr/local/lib/python2.7/dist-packages/sklearn/utils/validation.pyc\u001b[0m in \u001b[0;36mcheck_array\u001b[0;34m(array, accept_sparse, dtype, order, copy, force_all_finite, ensure_2d, allow_nd, ensure_min_samples, ensure_min_features, warn_on_dtype, estimator)\u001b[0m\n\u001b[1;32m    446\u001b[0m         \u001b[0;31m# make sure we actually converted to numeric:\u001b[0m\u001b[0;34m\u001b[0m\u001b[0;34m\u001b[0m\u001b[0m\n\u001b[1;32m    447\u001b[0m         \u001b[0;32mif\u001b[0m \u001b[0mdtype_numeric\u001b[0m \u001b[0;32mand\u001b[0m \u001b[0marray\u001b[0m\u001b[0;34m.\u001b[0m\u001b[0mdtype\u001b[0m\u001b[0;34m.\u001b[0m\u001b[0mkind\u001b[0m \u001b[0;34m==\u001b[0m \u001b[0;34m\"O\"\u001b[0m\u001b[0;34m:\u001b[0m\u001b[0;34m\u001b[0m\u001b[0m\n\u001b[0;32m--> 448\u001b[0;31m             \u001b[0marray\u001b[0m \u001b[0;34m=\u001b[0m \u001b[0marray\u001b[0m\u001b[0;34m.\u001b[0m\u001b[0mastype\u001b[0m\u001b[0;34m(\u001b[0m\u001b[0mnp\u001b[0m\u001b[0;34m.\u001b[0m\u001b[0mfloat64\u001b[0m\u001b[0;34m)\u001b[0m\u001b[0;34m\u001b[0m\u001b[0m\n\u001b[0m\u001b[1;32m    449\u001b[0m         \u001b[0;32mif\u001b[0m \u001b[0;32mnot\u001b[0m \u001b[0mallow_nd\u001b[0m \u001b[0;32mand\u001b[0m \u001b[0marray\u001b[0m\u001b[0;34m.\u001b[0m\u001b[0mndim\u001b[0m \u001b[0;34m>=\u001b[0m \u001b[0;36m3\u001b[0m\u001b[0;34m:\u001b[0m\u001b[0;34m\u001b[0m\u001b[0m\n\u001b[1;32m    450\u001b[0m             raise ValueError(\"Found array with dim %d. %s expected <= 2.\"\n",
      "\u001b[0;31mValueError\u001b[0m: could not convert string to float: iOS"
     ]
    }
   ],
   "source": [
    "clf = GaussianNB()\n",
    "clf.fit(X, y)"
   ]
  },
  {
   "cell_type": "code",
   "execution_count": null,
   "metadata": {
    "collapsed": true
   },
   "outputs": [],
   "source": []
  }
 ],
 "metadata": {
  "kernelspec": {
   "display_name": "Python 2",
   "language": "python",
   "name": "python2"
  }
 },
 "nbformat": 4,
 "nbformat_minor": 2
}
